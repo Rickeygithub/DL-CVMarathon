{
 "cells": [
  {
   "cell_type": "markdown",
   "metadata": {},
   "source": [
    "# 作業\n",
    "\n",
    "思考一下我們前面有提到圖片是矩陣，但維度可能會不一樣\n",
    "例如灰階圖只有兩個維度，RGB 彩圖則有 3 個維度\n",
    "\n",
    "假如今天我們把 RGB 3 個維度拆開來看會有甚麼不同的效果呢？"
   ]
  },
  {
   "cell_type": "code",
   "execution_count": 1,
   "metadata": {},
   "outputs": [
    {
     "name": "stdout",
     "output_type": "stream",
     "text": [
      "channel:blue\n",
      " [[125 125 133 ... 122 110  90]\n",
      " [125 125 133 ... 122 110  90]\n",
      " [125 125 133 ... 122 110  90]\n",
      " ...\n",
      " [ 60  60  58 ...  84  76  79]\n",
      " [ 57  57  62 ...  79  81  81]\n",
      " [ 57  57  62 ...  79  81  81]]\n",
      "channel:green\n",
      " [[137 137 137 ... 148 130  99]\n",
      " [137 137 137 ... 148 130  99]\n",
      " [137 137 137 ... 148 130  99]\n",
      " ...\n",
      " [ 18  18  27 ...  73  68  62]\n",
      " [ 22  22  32 ...  70  71  74]\n",
      " [ 22  22  32 ...  70  71  74]]\n",
      "channel:red\n",
      " [[226 226 223 ... 230 221 200]\n",
      " [226 226 223 ... 230 221 200]\n",
      " [226 226 223 ... 230 221 200]\n",
      " ...\n",
      " [ 84  84  92 ... 173 172 177]\n",
      " [ 82  82  96 ... 179 181 185]\n",
      " [ 82  82  96 ... 179 181 185]]\n"
     ]
    }
   ],
   "source": [
    "import cv2\n",
    "\n",
    "img_path = 'lena.png'\n",
    "channel_name = ('blue', 'green', 'red')\n",
    "\n",
    "img = cv2.imread(img_path, cv2.IMREAD_COLOR)\n",
    "channel = cv2.split(img)\n",
    "for i in range(3):\n",
    "    cv2.imshow(channel_name[i], channel[i])\n",
    "    print(\"channel:%s\\n\"%channel_name[i], channel[i])\n",
    "k = cv2.waitKey(0)\n",
    "cv2.destroyAllWindows()"
   ]
  },
  {
   "cell_type": "code",
   "execution_count": null,
   "metadata": {},
   "outputs": [],
   "source": []
  },
  {
   "cell_type": "code",
   "execution_count": null,
   "metadata": {},
   "outputs": [],
   "source": []
  }
 ],
 "metadata": {
  "kernelspec": {
   "display_name": "Python 3",
   "language": "python",
   "name": "python3"
  },
  "language_info": {
   "codemirror_mode": {
    "name": "ipython",
    "version": 3
   },
   "file_extension": ".py",
   "mimetype": "text/x-python",
   "name": "python",
   "nbconvert_exporter": "python",
   "pygments_lexer": "ipython3",
   "version": "3.8.3"
  }
 },
 "nbformat": 4,
 "nbformat_minor": 2
}
